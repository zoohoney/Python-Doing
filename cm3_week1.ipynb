{
 "metadata": {
  "language_info": {
   "codemirror_mode": {
    "name": "ipython",
    "version": 3
   },
   "file_extension": ".py",
   "mimetype": "text/x-python",
   "name": "python",
   "nbconvert_exporter": "python",
   "pygments_lexer": "ipython3",
   "version": "3.7.10"
  },
  "orig_nbformat": 2,
  "kernelspec": {
   "name": "python3710jvsc74a57bd00af283f273ba8452268ed83ca0fd9f2c86ae0020769dca83ca1aff968103fc19",
   "display_name": "Python 3.7.10 64-bit ('aiffel': conda)"
  }
 },
 "nbformat": 4,
 "nbformat_minor": 2,
 "cells": [
  {
   "source": [
    "# 문제1. 약수 구하기 \n",
    "\n",
    "### 양의 정수를 입력 받고 그 수의 약수를 모두 출력하는 프로그램 작성 "
   ],
   "cell_type": "markdown",
   "metadata": {}
  },
  {
   "cell_type": "code",
   "execution_count": 1,
   "metadata": {},
   "outputs": [],
   "source": [
    "def divisor(n) :\n",
    "    for i in range(1, n+1 ): \n",
    "        if n % i == 0:\n",
    "            print(i,\"(은)는 약수\")"
   ]
  },
  {
   "cell_type": "code",
   "execution_count": 2,
   "metadata": {},
   "outputs": [
    {
     "output_type": "stream",
     "name": "stdout",
     "text": [
      "1 (은)는 약수\n2 (은)는 약수\n4 (은)는 약수\n5 (은)는 약수\n10 (은)는 약수\n20 (은)는 약수\n25 (은)는 약수\n50 (은)는 약수\n100 (은)는 약수\nNone\n"
     ]
    }
   ],
   "source": [
    "print(divisor(100))"
   ]
  },
  {
   "source": [
    "# 문제2. 리그 경기 횟수 구하기 \n",
    "\n",
    "### 리그에 속해있는 팀의 수 n이 주어지고 각 팀은 자신을 제외한 모든 팀과 한 경기씩 치루어 순위를 가리는 스포츠 리그전에서 치루어지는 경기의 수를 구하는 프로그램을 작성하십시오.\n",
    "\n",
    "2팀이면 1경기, 3팀이면 3경기, 4팀이면 6경기가 치루어 집니다.\n"
   ],
   "cell_type": "markdown",
   "metadata": {}
  },
  {
   "cell_type": "code",
   "execution_count": 3,
   "metadata": {},
   "outputs": [
    {
     "output_type": "stream",
     "name": "stdout",
     "text": [
      "6\n"
     ]
    }
   ],
   "source": [
    "def sum_ga(n) : \n",
    "    return n * (n - 1) // 2\n",
    "print(sum_ga(4))"
   ]
  },
  {
   "source": [
    "# 문제3. 윤년(Leap Year)\n",
    "\n",
    "### 아래의 조건을 만족하는 해는 윤년(leap year)이라고 합니다.\n",
    "\n",
    "### 서력기원으로 연수가 4로 나누어 떨어지는 해는 윤년으로 한다.\n",
    "### (2004년, 2008년, 2012년, 2016년, 2020년 ...)\n",
    "### 이 중에서 100으로 나누어 떨어지는 해는 평년으로 한다.\n",
    "### (1900년, 2100년, 2200년, 2300년 ...)\n",
    "### 그중에 400으로 나누어 떨어지는 해는 윤년으로 둔다.\n",
    "### (1600년, 2000년, 2400년 ...)\n",
    "\n",
    "### 연도를 입력받고 윤년인지 아닌지를 결정하는 프로그램을 작성하십시오.\n"
   ],
   "cell_type": "markdown",
   "metadata": {}
  },
  {
   "cell_type": "code",
   "execution_count": 8,
   "metadata": {},
   "outputs": [],
   "source": [
    "def ly(n):\n",
    "    if n // 4 == 0 :\n",
    "        print('윤년')\n",
    "    elif n // 100 == 0 :\n",
    "        print('평년')\n",
    "    elif n // 400 == 0 :\n",
    "        print('윤년')\n",
    "    else :\n",
    "        pass\n",
    "    \n"
   ]
  },
  {
   "cell_type": "code",
   "execution_count": 9,
   "metadata": {},
   "outputs": [
    {
     "output_type": "stream",
     "name": "stdout",
     "text": [
      "None\n"
     ]
    }
   ],
   "source": [
    "print(ly(2016))"
   ]
  },
  {
   "cell_type": "code",
   "execution_count": null,
   "metadata": {},
   "outputs": [],
   "source": []
  }
 ]
}